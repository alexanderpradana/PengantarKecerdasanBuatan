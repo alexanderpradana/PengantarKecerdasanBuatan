{
 "cells": [
  {
   "cell_type": "code",
   "execution_count": 20,
   "metadata": {},
   "outputs": [
    {
     "name": "stdout",
     "output_type": "stream",
     "text": [
      "['Arad', 'Zerind', 'Oradea']\n"
     ]
    }
   ],
   "source": [
    "def dfs(graph, vertex, path=[]):\n",
    "    path += [vertex]\n",
    "    akhir_path = len(path)-1\n",
    "    index_terakhir_path = path[akhir_path]\n",
    "    print(index_terakhir_path)\n",
    "    \n",
    "    for neighbor in graph[vertex]:\n",
    "        if index_terakhir_path == end:\n",
    "            break\n",
    "        elif neighbor not in path:\n",
    "                path = dfs(graph, neighbor, path)\n",
    "    return path\n",
    "\n",
    "adjacency_matrix = {\n",
    "    'Arad': ['Zerind', 'Timisoara', 'Sibiu'],\n",
    "    'Zerind' : ['Oradea', 'Arad'],\n",
    "    'Timisoara': ['Arad', 'Lugoj'],\n",
    "    'Sibiu': ['Rimnicu Vilcea' , 'Fagaras', 'Oradea', 'Arad'],\n",
    "    'Oradea': ['Zerind', 'Sibiu'],\n",
    "    'Lugoj':['Timisoara', 'Mehadia'],\n",
    "    'Rimnicu Vilcea':['Sibiu', 'Pitesti', 'Craiova'],\n",
    "    'Fagaras':['Sibiu', 'Bucharest'],\n",
    "    'Bucharest': ['Pitesti', 'Fagaras', 'Giurgiu', 'Urziceni'],\n",
    "    'Mehadia' : ['Lugoj','Drobeta'],\n",
    "    'Drobeta': ['Mehadia','Craiova'],\n",
    "    'Craiova': ['Drobeta', 'Rimnicu Vilcea', 'Pitesti'],\n",
    "    'Pitesti': ['Rimnicu Vilcea', 'Bucharest','Craiova'],\n",
    "    'Giurgiu' : ['Bucharest'],\n",
    "    'Urziceni' :['Bucharest', 'Hirsova', 'Vaslui'],\n",
    "    'Hirsova' : ['Eforie','Urziceni'],\n",
    "    'Eforie' : ['Hirsova'],\n",
    "    'Vaslui': ['Urziceni', 'Lasi'],\n",
    "    'Lasi' : ['Neamt'],\n",
    "    'Neamt':['Lasi']   \n",
    "}\n",
    "\n",
    "end = 'Sibiu'\n",
    "# route = (dfs(adjacency_matrix, 'Arad'))\n",
    "# akhir = len(route)-1\n",
    "# print(akhir)\n",
    "# index_terakhir = route[akhir]\n",
    "# print(index_terakhir)\n",
    "\n",
    "\n",
    "print(dfs(adjacency_matrix, 'Arad'))"
   ]
  },
  {
   "cell_type": "code",
   "execution_count": null,
   "metadata": {},
   "outputs": [],
   "source": []
  },
  {
   "cell_type": "code",
   "execution_count": null,
   "metadata": {},
   "outputs": [],
   "source": []
  }
 ],
 "metadata": {
  "kernelspec": {
   "display_name": "Python 3",
   "language": "python",
   "name": "python3"
  },
  "language_info": {
   "codemirror_mode": {
    "name": "ipython",
    "version": 3
   },
   "file_extension": ".py",
   "mimetype": "text/x-python",
   "name": "python",
   "nbconvert_exporter": "python",
   "pygments_lexer": "ipython3",
   "version": "3.8.3"
  }
 },
 "nbformat": 4,
 "nbformat_minor": 4
}
